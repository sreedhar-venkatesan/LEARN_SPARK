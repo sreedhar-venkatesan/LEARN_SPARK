{
 "cells": [
  {
   "cell_type": "code",
   "execution_count": 21,
   "metadata": {},
   "outputs": [],
   "source": [
    "import os\n",
    "import pandas as pd\n",
    "from pyspark.sql import SparkSession\n",
    "from pyspark.ml.feature import Imputer"
   ]
  },
  {
   "cell_type": "code",
   "execution_count": 22,
   "metadata": {},
   "outputs": [],
   "source": [
    "CURR_DIR = os.path.abspath('')\n",
    "DOC_NAME = os.path.join(CURR_DIR, '..', \"docs\", \"employee_dataset2.csv\")"
   ]
  },
  {
   "cell_type": "code",
   "execution_count": 23,
   "metadata": {},
   "outputs": [
    {
     "name": "stdout",
     "output_type": "stream",
     "text": [
      "             Salary\n",
      "count     12.000000\n",
      "mean   35783.333333\n",
      "std    18683.042060\n",
      "min     4500.000000\n",
      "25%    32500.000000\n",
      "50%    35600.000000\n",
      "75%    45000.000000\n",
      "max    65000.000000\n"
     ]
    }
   ],
   "source": [
    "df = pd.read_csv(DOC_NAME)\n",
    "df_describe = df.describe()\n",
    "print(df_describe)"
   ]
  },
  {
   "cell_type": "code",
   "execution_count": 24,
   "metadata": {},
   "outputs": [
    {
     "name": "stdout",
     "output_type": "stream",
     "text": [
      "+----+----------+------+\n",
      "|Name|Department|Salary|\n",
      "+----+----------+------+\n",
      "| aaa|   Biology| 45000|\n",
      "| bbb|   Physics| 65000|\n",
      "| aaa| chemistry| 35000|\n",
      "| ddd|     maths| 25000|\n",
      "| lll|   Biology| 35000|\n",
      "| fff|   Physics| 36200|\n",
      "| ggg| chemistry|  4500|\n",
      "| hhh|     maths| 35200|\n",
      "| iii|   Physics|  4500|\n",
      "| jjj| chemistry| 45000|\n",
      "| aaa|   Biology| 36000|\n",
      "| lll|   Physics| 63000|\n",
      "+----+----------+------+\n",
      "\n"
     ]
    }
   ],
   "source": [
    "spark = SparkSession.builder.appName('dataset2').getOrCreate()\n",
    "df_pyspark = spark.read.csv(DOC_NAME, header=True, inferSchema=True)\n",
    "df_pyspark.show()"
   ]
  },
  {
   "cell_type": "code",
   "execution_count": 25,
   "metadata": {},
   "outputs": [
    {
     "data": {
      "text/html": [
       "\n",
       "            <div>\n",
       "                <p><b>SparkSession - in-memory</b></p>\n",
       "                \n",
       "        <div>\n",
       "            <p><b>SparkContext</b></p>\n",
       "\n",
       "            <p><a href=\"http://GOTCND8361VVS.vccnet.volvocars.net:4041\">Spark UI</a></p>\n",
       "\n",
       "            <dl>\n",
       "              <dt>Version</dt>\n",
       "                <dd><code>v3.1.2</code></dd>\n",
       "              <dt>Master</dt>\n",
       "                <dd><code>local[*]</code></dd>\n",
       "              <dt>AppName</dt>\n",
       "                <dd><code>dataset2</code></dd>\n",
       "            </dl>\n",
       "        </div>\n",
       "        \n",
       "            </div>\n",
       "        "
      ],
      "text/plain": [
       "<pyspark.sql.session.SparkSession at 0x19ffa202c18>"
      ]
     },
     "execution_count": 25,
     "metadata": {},
     "output_type": "execute_result"
    }
   ],
   "source": [
    "spark"
   ]
  },
  {
   "cell_type": "code",
   "execution_count": 26,
   "metadata": {},
   "outputs": [
    {
     "name": "stdout",
     "output_type": "stream",
     "text": [
      "root\n",
      " |-- Name: string (nullable = true)\n",
      " |-- Department: string (nullable = true)\n",
      " |-- Salary: integer (nullable = true)\n",
      "\n"
     ]
    }
   ],
   "source": [
    "df_pyspark.printSchema()"
   ]
  },
  {
   "cell_type": "code",
   "execution_count": 30,
   "metadata": {},
   "outputs": [
    {
     "data": {
      "text/plain": [
       "<pyspark.sql.group.GroupedData at 0x19ffa9d2898>"
      ]
     },
     "execution_count": 30,
     "metadata": {},
     "output_type": "execute_result"
    }
   ],
   "source": [
    "## group by name\n",
    "df_pyspark.groupBy('Name')"
   ]
  },
  {
   "cell_type": "code",
   "execution_count": 28,
   "metadata": {},
   "outputs": [
    {
     "name": "stdout",
     "output_type": "stream",
     "text": [
      "+----+-----------+\n",
      "|Name|sum(Salary)|\n",
      "+----+-----------+\n",
      "| ddd|      25000|\n",
      "| jjj|      45000|\n",
      "| aaa|     116000|\n",
      "| hhh|      35200|\n",
      "| iii|       4500|\n",
      "| lll|      98000|\n",
      "| bbb|      65000|\n",
      "| fff|      36200|\n",
      "| ggg|       4500|\n",
      "+----+-----------+\n",
      "\n"
     ]
    }
   ],
   "source": [
    "## group to find who gets max salary\n",
    "df_pyspark.groupBy('Name').sum().show()"
   ]
  },
  {
   "cell_type": "code",
   "execution_count": 31,
   "metadata": {},
   "outputs": [
    {
     "name": "stdout",
     "output_type": "stream",
     "text": [
      "+----------+-----------+\n",
      "|Department|sum(Salary)|\n",
      "+----------+-----------+\n",
      "| chemistry|      84500|\n",
      "|     maths|      60200|\n",
      "|   Physics|     168700|\n",
      "|   Biology|     116000|\n",
      "+----------+-----------+\n",
      "\n"
     ]
    }
   ],
   "source": [
    "## group to find who gets max salary\n",
    "df_pyspark.groupBy('Department').sum().show()"
   ]
  },
  {
   "cell_type": "code",
   "execution_count": 32,
   "metadata": {},
   "outputs": [
    {
     "name": "stdout",
     "output_type": "stream",
     "text": [
      "+----------+------------------+\n",
      "|Department|       avg(Salary)|\n",
      "+----------+------------------+\n",
      "| chemistry|28166.666666666668|\n",
      "|     maths|           30100.0|\n",
      "|   Physics|           42175.0|\n",
      "|   Biology|38666.666666666664|\n",
      "+----------+------------------+\n",
      "\n"
     ]
    }
   ],
   "source": [
    " df_pyspark.groupBy('Department').mean().show()"
   ]
  },
  {
   "cell_type": "code",
   "execution_count": 33,
   "metadata": {},
   "outputs": [
    {
     "name": "stdout",
     "output_type": "stream",
     "text": [
      "+----------+-----+\n",
      "|Department|count|\n",
      "+----------+-----+\n",
      "| chemistry|    3|\n",
      "|     maths|    2|\n",
      "|   Physics|    4|\n",
      "|   Biology|    3|\n",
      "+----------+-----+\n",
      "\n"
     ]
    }
   ],
   "source": [
    " ## based on count\n",
    "df_pyspark.groupBy('Department').count().show()"
   ]
  },
  {
   "cell_type": "code",
   "execution_count": 36,
   "metadata": {},
   "outputs": [
    {
     "name": "stdout",
     "output_type": "stream",
     "text": [
      "+-----------+\n",
      "|sum(Salary)|\n",
      "+-----------+\n",
      "|     429400|\n",
      "+-----------+\n",
      "\n"
     ]
    }
   ],
   "source": [
    "# same like grouping\n",
    "df_pyspark.agg({'Salary':'sum'}).show()"
   ]
  },
  {
   "cell_type": "code",
   "execution_count": 38,
   "metadata": {},
   "outputs": [
    {
     "name": "stdout",
     "output_type": "stream",
     "text": [
      "+----------+-----------+\n",
      "|Department|max(Salary)|\n",
      "+----------+-----------+\n",
      "| chemistry|      45000|\n",
      "|     maths|      35200|\n",
      "|   Physics|      65000|\n",
      "|   Biology|      45000|\n",
      "+----------+-----------+\n",
      "\n"
     ]
    }
   ],
   "source": [
    " ## max, min, avg\n",
    "df_pyspark.groupBy('Department').max().show()"
   ]
  },
  {
   "cell_type": "code",
   "execution_count": null,
   "metadata": {},
   "outputs": [],
   "source": []
  }
 ],
 "metadata": {
  "kernelspec": {
   "display_name": "cenvkernel",
   "language": "python",
   "name": "cenvkernel"
  },
  "language_info": {
   "codemirror_mode": {
    "name": "ipython",
    "version": 3
   },
   "file_extension": ".py",
   "mimetype": "text/x-python",
   "name": "python",
   "nbconvert_exporter": "python",
   "pygments_lexer": "ipython3",
   "version": "3.6.5"
  }
 },
 "nbformat": 4,
 "nbformat_minor": 2
}
