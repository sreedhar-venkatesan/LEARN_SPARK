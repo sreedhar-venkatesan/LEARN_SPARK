{
 "cells": [
  {
   "cell_type": "markdown",
   "metadata": {},
   "source": [
    "# Learn pyspark "
   ]
  },
  {
   "cell_type": "code",
   "execution_count": 32,
   "metadata": {},
   "outputs": [],
   "source": [
    "import os\n",
    "import pandas as pd\n",
    "from pyspark.sql import SparkSession\n",
    "from pyspark.ml.feature import Imputer"
   ]
  },
  {
   "cell_type": "markdown",
   "metadata": {},
   "source": [
    "### create virtual environment in conda\n",
    "\n",
    "open anaconda propmt in windows:\n",
    "\n",
    "go to the directory  where the files are placed\n",
    "connand to create venv: conda create -n venv_name\n",
    "command to activate venv: activate venv_name\n",
    "install a kernal for jupyter notebook in venv: ipython kernel install --user --name=cenvkernel\n",
    "open jupyter notebook: jupyter notebook\n",
    "create a new file in venv kernal by right clicking: new -> kernal_name \n",
    "\n",
    "First install pyspark in virtual environment: pip install pyspark / conda install pyspark"
   ]
  },
  {
   "cell_type": "code",
   "execution_count": 33,
   "metadata": {},
   "outputs": [],
   "source": [
    "CURR_DIR = os.path.abspath('')\n",
    "DOC_NAME = os.path.join(CURR_DIR, '..', \"docs\", \"employee_dataset.csv\")"
   ]
  },
  {
   "cell_type": "markdown",
   "metadata": {},
   "source": [
    "### Verify first the input file with pandas"
   ]
  },
  {
   "cell_type": "code",
   "execution_count": 34,
   "metadata": {},
   "outputs": [
    {
     "name": "stdout",
     "output_type": "stream",
     "text": [
      "             Age  Experience        Salary\n",
      "count  11.000000   11.000000     10.000000\n",
      "mean   42.454545    5.181818  35190.000000\n",
      "std    19.054467    2.638870  15749.317446\n",
      "min    23.000000    2.000000   4500.000000\n",
      "25%    24.500000    3.500000  27500.000000\n",
      "50%    36.000000    5.000000  35600.000000\n",
      "75%    56.000000    6.500000  42800.000000\n",
      "max    78.000000   10.000000  65000.000000\n"
     ]
    }
   ],
   "source": [
    "df = pd.read_csv(DOC_NAME)\n",
    "df_describe = df.describe()\n",
    "print(df_describe)"
   ]
  },
  {
   "cell_type": "markdown",
   "metadata": {},
   "source": [
    "### Create a spark session and load data"
   ]
  },
  {
   "cell_type": "code",
   "execution_count": 35,
   "metadata": {},
   "outputs": [
    {
     "name": "stdout",
     "output_type": "stream",
     "text": [
      "+----+----+----------+------+\n",
      "|Name| Age|Experience|Salary|\n",
      "+----+----+----------+------+\n",
      "| aaa|  25|         2| 45000|\n",
      "| bbb|  56|         4| 65000|\n",
      "| ccc|  24|         5| 35000|\n",
      "| ddd|  36|         7| 25000|\n",
      "| eee|  56|         9|  null|\n",
      "| fff|null|      null| 36200|\n",
      "| ggg|  36|        10|  null|\n",
      "| hhh|  78|      null| 35200|\n",
      "| iii|  65|         5|  4500|\n",
      "| jjj|  45|         3| 25000|\n",
      "| kkk|  23|      null|  null|\n",
      "| lll|null|         2| 45000|\n",
      "|null|  23|      null| 36000|\n",
      "|null|null|         4|  null|\n",
      "|null|null|         6|  null|\n",
      "+----+----+----------+------+\n",
      "\n"
     ]
    }
   ],
   "source": [
    "spark = SparkSession.builder.appName('Practise').getOrCreate()\n",
    "df_pyspark = spark.read.csv(DOC_NAME, header=True, inferSchema=True)\n",
    "df_pyspark.show()"
   ]
  },
  {
   "cell_type": "markdown",
   "metadata": {},
   "source": [
    "### Missing data - add\n",
    "imputer command is used to add data in missing places mean, meadia"
   ]
  },
  {
   "cell_type": "code",
   "execution_count": 36,
   "metadata": {},
   "outputs": [
    {
     "name": "stdout",
     "output_type": "stream",
     "text": [
      "+----+----+----------+------+-----------+------------------+--------------+\n",
      "|Name| Age|Experience|Salary|age_imputed|Experience_imputed|Salary_imputed|\n",
      "+----+----+----------+------+-----------+------------------+--------------+\n",
      "| aaa|  25|         2| 45000|         25|                 2|         45000|\n",
      "| bbb|  56|         4| 65000|         56|                 4|         65000|\n",
      "| ccc|  24|         5| 35000|         24|                 5|         35000|\n",
      "| ddd|  36|         7| 25000|         36|                 7|         25000|\n",
      "| eee|  56|         9|  null|         56|                 9|         35190|\n",
      "| fff|null|      null| 36200|         42|                 5|         36200|\n",
      "| ggg|  36|        10|  null|         36|                10|         35190|\n",
      "| hhh|  78|      null| 35200|         78|                 5|         35200|\n",
      "| iii|  65|         5|  4500|         65|                 5|          4500|\n",
      "| jjj|  45|         3| 25000|         45|                 3|         25000|\n",
      "| kkk|  23|      null|  null|         23|                 5|         35190|\n",
      "| lll|null|         2| 45000|         42|                 2|         45000|\n",
      "|null|  23|      null| 36000|         23|                 5|         36000|\n",
      "|null|null|         4|  null|         42|                 4|         35190|\n",
      "|null|null|         6|  null|         42|                 6|         35190|\n",
      "+----+----+----------+------+-----------+------------------+--------------+\n",
      "\n"
     ]
    }
   ],
   "source": [
    "imputer = Imputer(\n",
    "    inputCols = ['Age', 'Experience', 'Salary'],\n",
    "    outputCols = [\"{}_imputed\".format(c) for c in ['age', 'Experience','Salary']]\n",
    ").setStrategy(\"mean\")\n",
    "imputer.fit(df_pyspark).transform(df_pyspark).show()"
   ]
  },
  {
   "cell_type": "markdown",
   "metadata": {},
   "source": [
    "### Missing data - drop\n",
    "option available: how - any, all, threshold - 1, 2 "
   ]
  },
  {
   "cell_type": "code",
   "execution_count": 37,
   "metadata": {},
   "outputs": [],
   "source": [
    "df_pyspark_drop = df_pyspark.na.drop(how ='any')"
   ]
  },
  {
   "cell_type": "markdown",
   "metadata": {},
   "source": [
    "### Filter options"
   ]
  },
  {
   "cell_type": "code",
   "execution_count": 39,
   "metadata": {},
   "outputs": [
    {
     "name": "stdout",
     "output_type": "stream",
     "text": [
      "+----+---+----------+------+\n",
      "|Name|Age|Experience|Salary|\n",
      "+----+---+----------+------+\n",
      "| aaa| 25|         2| 45000|\n",
      "| ccc| 24|         5| 35000|\n",
      "| ddd| 36|         7| 25000|\n",
      "| iii| 65|         5|  4500|\n",
      "| jjj| 45|         3| 25000|\n",
      "+----+---+----------+------+\n",
      "\n"
     ]
    }
   ],
   "source": [
    "df_pyspark_drop.filter(\"Salary<=45000\").show()"
   ]
  },
  {
   "cell_type": "code",
   "execution_count": 40,
   "metadata": {},
   "outputs": [
    {
     "name": "stdout",
     "output_type": "stream",
     "text": [
      "+----+---+\n",
      "|Name|Age|\n",
      "+----+---+\n",
      "| aaa| 25|\n",
      "| ccc| 24|\n",
      "| ddd| 36|\n",
      "| iii| 65|\n",
      "| jjj| 45|\n",
      "+----+---+\n",
      "\n"
     ]
    }
   ],
   "source": [
    "df_pyspark_drop.filter(\"Salary<=45000\").select(['Name','Age']).show()"
   ]
  },
  {
   "cell_type": "code",
   "execution_count": 42,
   "metadata": {},
   "outputs": [
    {
     "name": "stdout",
     "output_type": "stream",
     "text": [
      "+----+---+----------+------+\n",
      "|Name|Age|Experience|Salary|\n",
      "+----+---+----------+------+\n",
      "| aaa| 25|         2| 45000|\n",
      "| ccc| 24|         5| 35000|\n",
      "| ddd| 36|         7| 25000|\n",
      "| iii| 65|         5|  4500|\n",
      "| jjj| 45|         3| 25000|\n",
      "+----+---+----------+------+\n",
      "\n"
     ]
    }
   ],
   "source": [
    "df_pyspark_drop.filter(df_pyspark_drop[\"Salary\"]<=45000).show()"
   ]
  },
  {
   "cell_type": "markdown",
   "metadata": {},
   "source": [
    "mulitple filter condition"
   ]
  },
  {
   "cell_type": "code",
   "execution_count": 50,
   "metadata": {},
   "outputs": [
    {
     "name": "stdout",
     "output_type": "stream",
     "text": [
      "+----+---+----------+------+\n",
      "|Name|Age|Experience|Salary|\n",
      "+----+---+----------+------+\n",
      "| aaa| 25|         2| 45000|\n",
      "| bbb| 56|         4| 65000|\n",
      "| ccc| 24|         5| 35000|\n",
      "| ddd| 36|         7| 25000|\n",
      "| iii| 65|         5|  4500|\n",
      "| jjj| 45|         3| 25000|\n",
      "+----+---+----------+------+\n",
      "\n"
     ]
    }
   ],
   "source": [
    "df_pyspark_drop.filter((df_pyspark_drop[\"Salary\"]<=45000)  | (df_pyspark_drop[\"Salary\"]>=20000)).show()"
   ]
  },
  {
   "cell_type": "markdown",
   "metadata": {},
   "source": [
    "inverse or not operator"
   ]
  },
  {
   "cell_type": "code",
   "execution_count": 52,
   "metadata": {},
   "outputs": [
    {
     "name": "stdout",
     "output_type": "stream",
     "text": [
      "+----+---+----------+------+\n",
      "|Name|Age|Experience|Salary|\n",
      "+----+---+----------+------+\n",
      "| bbb| 56|         4| 65000|\n",
      "+----+---+----------+------+\n",
      "\n"
     ]
    }
   ],
   "source": [
    "df_pyspark_drop.filter(~(df_pyspark_drop[\"Salary\"]<=45000)).show()"
   ]
  }
 ],
 "metadata": {
  "kernelspec": {
   "display_name": "cenvkernel",
   "language": "python",
   "name": "cenvkernel"
  },
  "language_info": {
   "codemirror_mode": {
    "name": "ipython",
    "version": 3
   },
   "file_extension": ".py",
   "mimetype": "text/x-python",
   "name": "python",
   "nbconvert_exporter": "python",
   "pygments_lexer": "ipython3",
   "version": "3.6.5"
  }
 },
 "nbformat": 4,
 "nbformat_minor": 2
}
