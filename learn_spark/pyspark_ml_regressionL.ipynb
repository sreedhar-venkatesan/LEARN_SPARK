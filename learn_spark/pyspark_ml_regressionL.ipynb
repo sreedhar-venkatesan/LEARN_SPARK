{
 "cells": [
  {
   "cell_type": "markdown",
   "metadata": {},
   "source": [
    "# Machine learning library pyspark\n",
    "## Linear regression"
   ]
  },
  {
   "cell_type": "code",
   "execution_count": 2,
   "metadata": {},
   "outputs": [],
   "source": [
    "import os\n",
    "import pandas as pd\n",
    "from pyspark.sql import SparkSession"
   ]
  },
  {
   "cell_type": "code",
   "execution_count": 3,
   "metadata": {},
   "outputs": [],
   "source": [
    "CURR_DIR = os.path.abspath('')\n",
    "DOC_NAME = os.path.join(CURR_DIR, '..', \"docs\", \"employee_dataset.csv\")"
   ]
  },
  {
   "cell_type": "code",
   "execution_count": 4,
   "metadata": {},
   "outputs": [
    {
     "name": "stdout",
     "output_type": "stream",
     "text": [
      "             Age  Experience        Salary\n",
      "count  11.000000   11.000000     10.000000\n",
      "mean   42.454545    5.181818  35190.000000\n",
      "std    19.054467    2.638870  15749.317446\n",
      "min    23.000000    2.000000   4500.000000\n",
      "25%    24.500000    3.500000  27500.000000\n",
      "50%    36.000000    5.000000  35600.000000\n",
      "75%    56.000000    6.500000  42800.000000\n",
      "max    78.000000   10.000000  65000.000000\n"
     ]
    }
   ],
   "source": [
    "df = pd.read_csv(DOC_NAME)\n",
    "df_describe = df.describe()\n",
    "print(df_describe)"
   ]
  },
  {
   "cell_type": "code",
   "execution_count": 9,
   "metadata": {},
   "outputs": [
    {
     "name": "stdout",
     "output_type": "stream",
     "text": [
      "+----+---+----------+------+\n",
      "|Name|Age|Experience|Salary|\n",
      "+----+---+----------+------+\n",
      "| aaa| 25|         2| 45000|\n",
      "| bbb| 56|         4| 65000|\n",
      "| ccc| 24|         5| 35000|\n",
      "| ddd| 36|         7| 25000|\n",
      "| iii| 65|         5|  4500|\n",
      "| jjj| 45|         3| 25000|\n",
      "+----+---+----------+------+\n",
      "\n"
     ]
    }
   ],
   "source": [
    "spark = SparkSession.builder.appName('Practise').getOrCreate()\n",
    "training = spark.read.csv(DOC_NAME, header=True, inferSchema=True)\n",
    "training = training.na.drop(how ='any')\n",
    "training.show()"
   ]
  },
  {
   "cell_type": "code",
   "execution_count": 10,
   "metadata": {},
   "outputs": [
    {
     "name": "stdout",
     "output_type": "stream",
     "text": [
      "root\n",
      " |-- Name: string (nullable = true)\n",
      " |-- Age: integer (nullable = true)\n",
      " |-- Experience: integer (nullable = true)\n",
      " |-- Salary: integer (nullable = true)\n",
      "\n"
     ]
    }
   ],
   "source": [
    "training.printSchema()"
   ]
  },
  {
   "cell_type": "code",
   "execution_count": 12,
   "metadata": {},
   "outputs": [
    {
     "data": {
      "text/plain": [
       "['Name', 'Age', 'Experience', 'Salary']"
      ]
     },
     "execution_count": 12,
     "metadata": {},
     "output_type": "execute_result"
    }
   ],
   "source": [
    "training.columns"
   ]
  },
  {
   "cell_type": "markdown",
   "metadata": {},
   "source": [
    "### group feature\n",
    "['Age', 'Experience']---->new feature --> Independent feature"
   ]
  },
  {
   "cell_type": "code",
   "execution_count": 19,
   "metadata": {},
   "outputs": [],
   "source": [
    "from pyspark.ml.feature import VectorAssembler"
   ]
  },
  {
   "cell_type": "code",
   "execution_count": 23,
   "metadata": {},
   "outputs": [],
   "source": [
    "feature_assmebler = VectorAssembler(inputCols=['Age', 'Experience'], outputCol=\"Independent feature\")"
   ]
  },
  {
   "cell_type": "code",
   "execution_count": 27,
   "metadata": {},
   "outputs": [
    {
     "name": "stdout",
     "output_type": "stream",
     "text": [
      "+----+---+----------+------+-------------------+\n",
      "|Name|Age|Experience|Salary|Independent feature|\n",
      "+----+---+----------+------+-------------------+\n",
      "| aaa| 25|         2| 45000|         [25.0,2.0]|\n",
      "| bbb| 56|         4| 65000|         [56.0,4.0]|\n",
      "| ccc| 24|         5| 35000|         [24.0,5.0]|\n",
      "| ddd| 36|         7| 25000|         [36.0,7.0]|\n",
      "| iii| 65|         5|  4500|         [65.0,5.0]|\n",
      "| jjj| 45|         3| 25000|         [45.0,3.0]|\n",
      "+----+---+----------+------+-------------------+\n",
      "\n"
     ]
    },
    {
     "data": {
      "text/plain": [
       "['Name', 'Age', 'Experience', 'Salary', 'Independent feature']"
      ]
     },
     "execution_count": 27,
     "metadata": {},
     "output_type": "execute_result"
    }
   ],
   "source": [
    "output = feature_assmebler.transform(training)\n",
    "output.show()\n",
    "output.columns"
   ]
  },
  {
   "cell_type": "code",
   "execution_count": 30,
   "metadata": {},
   "outputs": [
    {
     "name": "stdout",
     "output_type": "stream",
     "text": [
      "+-------------------+------+\n",
      "|Independent feature|Salary|\n",
      "+-------------------+------+\n",
      "|         [25.0,2.0]| 45000|\n",
      "|         [56.0,4.0]| 65000|\n",
      "|         [24.0,5.0]| 35000|\n",
      "|         [36.0,7.0]| 25000|\n",
      "|         [65.0,5.0]|  4500|\n",
      "|         [45.0,3.0]| 25000|\n",
      "+-------------------+------+\n",
      "\n"
     ]
    }
   ],
   "source": [
    "finalized_data = output.select('Independent feature','Salary')\n",
    "finalized_data.show()"
   ]
  },
  {
   "cell_type": "code",
   "execution_count": 63,
   "metadata": {},
   "outputs": [],
   "source": [
    "### import linear regression\n",
    "from pyspark.ml.regression import LinearRegression\n",
    "### train and test data split\n",
    "train_data, test_data = finalized_data.randomSplit([0.9,0.2])"
   ]
  },
  {
   "cell_type": "code",
   "execution_count": 64,
   "metadata": {},
   "outputs": [],
   "source": [
    "### regressor and fit\n",
    "regressor = LinearRegression(featuresCol='Independent feature', labelCol='Salary')\n",
    "regressor = regressor.fit(train_data)"
   ]
  },
  {
   "cell_type": "code",
   "execution_count": 65,
   "metadata": {},
   "outputs": [
    {
     "data": {
      "text/plain": [
       "DenseVector([-252.9989, -4064.3402])"
      ]
     },
     "execution_count": 65,
     "metadata": {},
     "output_type": "execute_result"
    }
   ],
   "source": [
    "### coefficients\n",
    "regressor.coefficients"
   ]
  },
  {
   "cell_type": "code",
   "execution_count": 66,
   "metadata": {},
   "outputs": [
    {
     "data": {
      "text/plain": [
       "61456.37949836427"
      ]
     },
     "execution_count": 66,
     "metadata": {},
     "output_type": "execute_result"
    }
   ],
   "source": [
    "### Intercepts\n",
    "regressor.intercept"
   ]
  },
  {
   "cell_type": "code",
   "execution_count": 68,
   "metadata": {},
   "outputs": [
    {
     "name": "stdout",
     "output_type": "stream",
     "text": [
      "+-------------------+------+-----------------+\n",
      "|Independent feature|Salary|       prediction|\n",
      "+-------------------+------+-----------------+\n",
      "|         [24.0,5.0]| 35000|35062.70447110146|\n",
      "+-------------------+------+-----------------+\n",
      "\n"
     ]
    }
   ],
   "source": [
    "### Prediction of test data\n",
    "prediction_result = regressor.evaluate(test_data)\n",
    "prediction_result.predictions.show()"
   ]
  },
  {
   "cell_type": "code",
   "execution_count": 69,
   "metadata": {},
   "outputs": [
    {
     "data": {
      "text/plain": [
       "(62.70447110146051, 3931.8506961138964)"
      ]
     },
     "execution_count": 69,
     "metadata": {},
     "output_type": "execute_result"
    }
   ],
   "source": [
    "### Error prediction\n",
    "prediction_result.meanAbsoluteError,prediction_result.meanSquaredError"
   ]
  }
 ],
 "metadata": {
  "kernelspec": {
   "display_name": "cenvkernel",
   "language": "python",
   "name": "cenvkernel"
  },
  "language_info": {
   "codemirror_mode": {
    "name": "ipython",
    "version": 3
   },
   "file_extension": ".py",
   "mimetype": "text/x-python",
   "name": "python",
   "nbconvert_exporter": "python",
   "pygments_lexer": "ipython3",
   "version": "3.6.5"
  }
 },
 "nbformat": 4,
 "nbformat_minor": 2
}
